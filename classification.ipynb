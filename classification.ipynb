{
 "cells": [
  {
   "cell_type": "code",
   "execution_count": 2,
   "metadata": {},
   "outputs": [
    {
     "data": {
      "text/plain": [
       "'c:\\\\users\\\\harvey\\\\appdata\\\\local\\\\programs\\\\python\\\\python37\\\\python.exe'"
      ]
     },
     "execution_count": 2,
     "metadata": {},
     "output_type": "execute_result"
    }
   ],
   "source": [
    "import sys\n",
    "sys.executable"
   ]
  },
  {
   "cell_type": "markdown",
   "metadata": {},
   "source": [
    "# 分類\n",
    "## 資料集\n",
    "![說明文字](https://www.google.com/images/branding/googlelogo/2x/googlelogo_color_92x30dp.png)\n",
    "\n",
    "[超連結說明](https://www.google.com/webhp?hl=zh-TW&sa=X&ved=0ahUKEwinptPvyv3oAhWLTX0KHVBMDr8QPAgH)\n",
    "\n",
    "姓名 | 身高\n",
    "----|----\n",
    "harvey|177\n",
    "\n",
    "$ c = \\sqrt {\\frac{b}{d}}$"
   ]
  },
  {
   "cell_type": "code",
   "execution_count": null,
   "metadata": {},
   "outputs": [],
   "source": [
    " 1"
   ]
  }
 ],
 "metadata": {
  "kernelspec": {
   "display_name": "Python 3",
   "language": "python",
   "name": "python3"
  },
  "language_info": {
   "codemirror_mode": {
    "name": "ipython",
    "version": 3
   },
   "file_extension": ".py",
   "mimetype": "text/x-python",
   "name": "python",
   "nbconvert_exporter": "python",
   "pygments_lexer": "ipython3",
   "version": "3.7.7"
  }
 },
 "nbformat": 4,
 "nbformat_minor": 4
}
